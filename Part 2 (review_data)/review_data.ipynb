{
 "cells": [
  {
   "cell_type": "code",
   "execution_count": 1,
   "id": "50c793d1",
   "metadata": {},
   "outputs": [],
   "source": [
    "import pandas as pd\n",
    "import numpy as np\n",
    "import matplotlib.pyplot as plt\n",
    "import seaborn as sns"
   ]
  },
  {
   "cell_type": "code",
   "execution_count": 2,
   "id": "9a760e2e",
   "metadata": {},
   "outputs": [],
   "source": [
    "df = pd.read_csv(r\"C:\\Users\\user\\Dropbox\\PC\\Desktop\\Machine Learning\\next labs\\Part 2 (review_data)\\review_data.csv\")"
   ]
  },
  {
   "cell_type": "code",
   "execution_count": 3,
   "id": "91efdc73",
   "metadata": {},
   "outputs": [
    {
     "data": {
      "text/html": [
       "<div>\n",
       "<style scoped>\n",
       "    .dataframe tbody tr th:only-of-type {\n",
       "        vertical-align: middle;\n",
       "    }\n",
       "\n",
       "    .dataframe tbody tr th {\n",
       "        vertical-align: top;\n",
       "    }\n",
       "\n",
       "    .dataframe thead th {\n",
       "        text-align: right;\n",
       "    }\n",
       "</style>\n",
       "<table border=\"1\" class=\"dataframe\">\n",
       "  <thead>\n",
       "    <tr style=\"text-align: right;\">\n",
       "      <th></th>\n",
       "      <th>text</th>\n",
       "      <th>star</th>\n",
       "      <th>app_id</th>\n",
       "      <th>reviewDate</th>\n",
       "    </tr>\n",
       "  </thead>\n",
       "  <tbody>\n",
       "    <tr>\n",
       "      <th>0</th>\n",
       "      <td>Anathi Khanyile</td>\n",
       "      <td>5</td>\n",
       "      <td>com.fingersoft.hillclimb</td>\n",
       "      <td>18/03/21</td>\n",
       "    </tr>\n",
       "    <tr>\n",
       "      <th>1</th>\n",
       "      <td>Tony bahut funny hai Hill climbing racing my f...</td>\n",
       "      <td>5</td>\n",
       "      <td>com.fingersoft.hillclimb</td>\n",
       "      <td>18/03/21</td>\n",
       "    </tr>\n",
       "    <tr>\n",
       "      <th>2</th>\n",
       "      <td>Teturwu</td>\n",
       "      <td>1</td>\n",
       "      <td>com.fingersoft.hillclimb</td>\n",
       "      <td>18/03/21</td>\n",
       "    </tr>\n",
       "    <tr>\n",
       "      <th>3</th>\n",
       "      <td>Hoooooooooooyaaaaaaaaa what a game hoooooooooo...</td>\n",
       "      <td>5</td>\n",
       "      <td>com.fingersoft.hillclimb</td>\n",
       "      <td>18/03/21</td>\n",
       "    </tr>\n",
       "    <tr>\n",
       "      <th>4</th>\n",
       "      <td>This game is nice</td>\n",
       "      <td>5</td>\n",
       "      <td>com.fingersoft.hillclimb</td>\n",
       "      <td>18/03/21</td>\n",
       "    </tr>\n",
       "  </tbody>\n",
       "</table>\n",
       "</div>"
      ],
      "text/plain": [
       "                                                text  star  \\\n",
       "0                                    Anathi Khanyile     5   \n",
       "1  Tony bahut funny hai Hill climbing racing my f...     5   \n",
       "2                                            Teturwu     1   \n",
       "3  Hoooooooooooyaaaaaaaaa what a game hoooooooooo...     5   \n",
       "4                                  This game is nice     5   \n",
       "\n",
       "                     app_id reviewDate  \n",
       "0  com.fingersoft.hillclimb   18/03/21  \n",
       "1  com.fingersoft.hillclimb   18/03/21  \n",
       "2  com.fingersoft.hillclimb   18/03/21  \n",
       "3  com.fingersoft.hillclimb   18/03/21  \n",
       "4  com.fingersoft.hillclimb   18/03/21  "
      ]
     },
     "execution_count": 3,
     "metadata": {},
     "output_type": "execute_result"
    }
   ],
   "source": [
    "df.head()"
   ]
  },
  {
   "cell_type": "code",
   "execution_count": 4,
   "id": "a240b4a2",
   "metadata": {},
   "outputs": [
    {
     "data": {
      "text/html": [
       "<div>\n",
       "<style scoped>\n",
       "    .dataframe tbody tr th:only-of-type {\n",
       "        vertical-align: middle;\n",
       "    }\n",
       "\n",
       "    .dataframe tbody tr th {\n",
       "        vertical-align: top;\n",
       "    }\n",
       "\n",
       "    .dataframe thead th {\n",
       "        text-align: right;\n",
       "    }\n",
       "</style>\n",
       "<table border=\"1\" class=\"dataframe\">\n",
       "  <thead>\n",
       "    <tr style=\"text-align: right;\">\n",
       "      <th></th>\n",
       "      <th>star</th>\n",
       "    </tr>\n",
       "  </thead>\n",
       "  <tbody>\n",
       "    <tr>\n",
       "      <th>count</th>\n",
       "      <td>30000.000000</td>\n",
       "    </tr>\n",
       "    <tr>\n",
       "      <th>mean</th>\n",
       "      <td>4.117467</td>\n",
       "    </tr>\n",
       "    <tr>\n",
       "      <th>std</th>\n",
       "      <td>1.476620</td>\n",
       "    </tr>\n",
       "    <tr>\n",
       "      <th>min</th>\n",
       "      <td>1.000000</td>\n",
       "    </tr>\n",
       "    <tr>\n",
       "      <th>25%</th>\n",
       "      <td>4.000000</td>\n",
       "    </tr>\n",
       "    <tr>\n",
       "      <th>50%</th>\n",
       "      <td>5.000000</td>\n",
       "    </tr>\n",
       "    <tr>\n",
       "      <th>75%</th>\n",
       "      <td>5.000000</td>\n",
       "    </tr>\n",
       "    <tr>\n",
       "      <th>max</th>\n",
       "      <td>5.000000</td>\n",
       "    </tr>\n",
       "  </tbody>\n",
       "</table>\n",
       "</div>"
      ],
      "text/plain": [
       "               star\n",
       "count  30000.000000\n",
       "mean       4.117467\n",
       "std        1.476620\n",
       "min        1.000000\n",
       "25%        4.000000\n",
       "50%        5.000000\n",
       "75%        5.000000\n",
       "max        5.000000"
      ]
     },
     "execution_count": 4,
     "metadata": {},
     "output_type": "execute_result"
    }
   ],
   "source": [
    "df.describe()"
   ]
  },
  {
   "cell_type": "code",
   "execution_count": 5,
   "id": "1442df19",
   "metadata": {},
   "outputs": [
    {
     "data": {
      "text/plain": [
       "Index(['text', 'star', 'app_id', 'reviewDate'], dtype='object')"
      ]
     },
     "execution_count": 5,
     "metadata": {},
     "output_type": "execute_result"
    }
   ],
   "source": [
    "df.columns"
   ]
  },
  {
   "cell_type": "code",
   "execution_count": 6,
   "id": "99285d2e",
   "metadata": {},
   "outputs": [
    {
     "data": {
      "text/plain": [
       "0                                          Anathi Khanyile\n",
       "1        Tony bahut funny hai Hill climbing racing my f...\n",
       "2                                                  Teturwu\n",
       "3        Hoooooooooooyaaaaaaaaa what a game hoooooooooo...\n",
       "4                                        This game is nice\n",
       "                               ...                        \n",
       "29995                                   Plz my Vidos viral\n",
       "29996                                                 Nice\n",
       "29997                    Disturbing too much as YouTube ad\n",
       "29998                                        Koub valo vai\n",
       "29999                            I want to grow my account\n",
       "Name: text, Length: 30000, dtype: object"
      ]
     },
     "execution_count": 6,
     "metadata": {},
     "output_type": "execute_result"
    }
   ],
   "source": [
    "df.text"
   ]
  },
  {
   "cell_type": "markdown",
   "id": "becf221e",
   "metadata": {},
   "source": [
    "There are more grammatical mistakes in english as well as customers used their native language as well"
   ]
  },
  {
   "cell_type": "code",
   "execution_count": null,
   "id": "58f4f07c",
   "metadata": {},
   "outputs": [],
   "source": []
  }
 ],
 "metadata": {
  "kernelspec": {
   "display_name": "Python 3 (ipykernel)",
   "language": "python",
   "name": "python3"
  },
  "language_info": {
   "codemirror_mode": {
    "name": "ipython",
    "version": 3
   },
   "file_extension": ".py",
   "mimetype": "text/x-python",
   "name": "python",
   "nbconvert_exporter": "python",
   "pygments_lexer": "ipython3",
   "version": "3.9.7"
  }
 },
 "nbformat": 4,
 "nbformat_minor": 5
}
