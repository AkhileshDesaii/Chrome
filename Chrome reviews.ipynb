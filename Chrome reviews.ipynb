{
 "cells": [
  {
   "cell_type": "code",
   "execution_count": 1,
   "id": "ea4fdfef",
   "metadata": {},
   "outputs": [],
   "source": [
    "import pandas as pd\n",
    "import numpy as np\n",
    "import matplotlib.pyplot as plt\n",
    "import seaborn as sns"
   ]
  },
  {
   "cell_type": "code",
   "execution_count": 2,
   "id": "22a9be2b",
   "metadata": {},
   "outputs": [],
   "source": [
    "df = pd.read_csv(r\"C:\\Users\\user\\Dropbox\\PC\\Desktop\\Machine Learning\\next labs\\chrome_reviews.csv\")"
   ]
  },
  {
   "cell_type": "code",
   "execution_count": 3,
   "id": "3ee33a10",
   "metadata": {},
   "outputs": [
    {
     "data": {
      "text/html": [
       "<div>\n",
       "<style scoped>\n",
       "    .dataframe tbody tr th:only-of-type {\n",
       "        vertical-align: middle;\n",
       "    }\n",
       "\n",
       "    .dataframe tbody tr th {\n",
       "        vertical-align: top;\n",
       "    }\n",
       "\n",
       "    .dataframe thead th {\n",
       "        text-align: right;\n",
       "    }\n",
       "</style>\n",
       "<table border=\"1\" class=\"dataframe\">\n",
       "  <thead>\n",
       "    <tr style=\"text-align: right;\">\n",
       "      <th></th>\n",
       "      <th>ID</th>\n",
       "      <th>Review URL</th>\n",
       "      <th>Text</th>\n",
       "      <th>Star</th>\n",
       "      <th>Thumbs Up</th>\n",
       "      <th>User Name</th>\n",
       "      <th>Developer Reply</th>\n",
       "      <th>Version</th>\n",
       "      <th>Review Date</th>\n",
       "      <th>App ID</th>\n",
       "    </tr>\n",
       "  </thead>\n",
       "  <tbody>\n",
       "    <tr>\n",
       "      <th>0</th>\n",
       "      <td>3886</td>\n",
       "      <td>https://play.google.com/store/apps/details?id=...</td>\n",
       "      <td>This is very helpfull aap.</td>\n",
       "      <td>5</td>\n",
       "      <td>0</td>\n",
       "      <td>INDIAN Knowledge</td>\n",
       "      <td>NaN</td>\n",
       "      <td>83.0.4103.106</td>\n",
       "      <td>2020-12-19</td>\n",
       "      <td>com.android.chrome</td>\n",
       "    </tr>\n",
       "    <tr>\n",
       "      <th>1</th>\n",
       "      <td>3887</td>\n",
       "      <td>https://play.google.com/store/apps/details?id=...</td>\n",
       "      <td>Good</td>\n",
       "      <td>3</td>\n",
       "      <td>2</td>\n",
       "      <td>Ijeoma Happiness</td>\n",
       "      <td>NaN</td>\n",
       "      <td>85.0.4183.127</td>\n",
       "      <td>2020-12-19</td>\n",
       "      <td>com.android.chrome</td>\n",
       "    </tr>\n",
       "    <tr>\n",
       "      <th>2</th>\n",
       "      <td>3888</td>\n",
       "      <td>https://play.google.com/store/apps/details?id=...</td>\n",
       "      <td>Not able to update. Neither able to uninstall.</td>\n",
       "      <td>1</td>\n",
       "      <td>0</td>\n",
       "      <td>Priti D BtCFs-29</td>\n",
       "      <td>NaN</td>\n",
       "      <td>85.0.4183.127</td>\n",
       "      <td>2020-12-19</td>\n",
       "      <td>com.android.chrome</td>\n",
       "    </tr>\n",
       "    <tr>\n",
       "      <th>3</th>\n",
       "      <td>3889</td>\n",
       "      <td>https://play.google.com/store/apps/details?id=...</td>\n",
       "      <td>Nice app</td>\n",
       "      <td>4</td>\n",
       "      <td>0</td>\n",
       "      <td>Ajeet Raja</td>\n",
       "      <td>NaN</td>\n",
       "      <td>77.0.3865.116</td>\n",
       "      <td>2020-12-19</td>\n",
       "      <td>com.android.chrome</td>\n",
       "    </tr>\n",
       "    <tr>\n",
       "      <th>4</th>\n",
       "      <td>3890</td>\n",
       "      <td>https://play.google.com/store/apps/details?id=...</td>\n",
       "      <td>Many unwanted ads</td>\n",
       "      <td>1</td>\n",
       "      <td>0</td>\n",
       "      <td>Rams Mp</td>\n",
       "      <td>NaN</td>\n",
       "      <td>87.0.4280.66</td>\n",
       "      <td>2020-12-19</td>\n",
       "      <td>com.android.chrome</td>\n",
       "    </tr>\n",
       "  </tbody>\n",
       "</table>\n",
       "</div>"
      ],
      "text/plain": [
       "     ID                                         Review URL  \\\n",
       "0  3886  https://play.google.com/store/apps/details?id=...   \n",
       "1  3887  https://play.google.com/store/apps/details?id=...   \n",
       "2  3888  https://play.google.com/store/apps/details?id=...   \n",
       "3  3889  https://play.google.com/store/apps/details?id=...   \n",
       "4  3890  https://play.google.com/store/apps/details?id=...   \n",
       "\n",
       "                                             Text  Star  Thumbs Up  \\\n",
       "0                      This is very helpfull aap.     5          0   \n",
       "1                                            Good     3          2   \n",
       "2  Not able to update. Neither able to uninstall.     1          0   \n",
       "3                                        Nice app     4          0   \n",
       "4                               Many unwanted ads     1          0   \n",
       "\n",
       "          User Name Developer Reply        Version Review Date  \\\n",
       "0  INDIAN Knowledge             NaN  83.0.4103.106  2020-12-19   \n",
       "1  Ijeoma Happiness             NaN  85.0.4183.127  2020-12-19   \n",
       "2  Priti D BtCFs-29             NaN  85.0.4183.127  2020-12-19   \n",
       "3        Ajeet Raja             NaN  77.0.3865.116  2020-12-19   \n",
       "4           Rams Mp             NaN   87.0.4280.66  2020-12-19   \n",
       "\n",
       "               App ID  \n",
       "0  com.android.chrome  \n",
       "1  com.android.chrome  \n",
       "2  com.android.chrome  \n",
       "3  com.android.chrome  \n",
       "4  com.android.chrome  "
      ]
     },
     "execution_count": 3,
     "metadata": {},
     "output_type": "execute_result"
    }
   ],
   "source": [
    "df.head()"
   ]
  },
  {
   "cell_type": "code",
   "execution_count": 4,
   "id": "9bfd3a8f",
   "metadata": {},
   "outputs": [
    {
     "data": {
      "text/plain": [
       "(7204, 10)"
      ]
     },
     "execution_count": 4,
     "metadata": {},
     "output_type": "execute_result"
    }
   ],
   "source": [
    "df.shape"
   ]
  },
  {
   "cell_type": "code",
   "execution_count": 5,
   "id": "308bab35",
   "metadata": {},
   "outputs": [
    {
     "name": "stdout",
     "output_type": "stream",
     "text": [
      "<class 'pandas.core.frame.DataFrame'>\n",
      "RangeIndex: 7204 entries, 0 to 7203\n",
      "Data columns (total 10 columns):\n",
      " #   Column           Non-Null Count  Dtype \n",
      "---  ------           --------------  ----- \n",
      " 0   ID               7204 non-null   int64 \n",
      " 1   Review URL       7204 non-null   object\n",
      " 2   Text             7203 non-null   object\n",
      " 3   Star             7204 non-null   int64 \n",
      " 4   Thumbs Up        7204 non-null   int64 \n",
      " 5   User Name        7204 non-null   object\n",
      " 6   Developer Reply  95 non-null     object\n",
      " 7   Version          7119 non-null   object\n",
      " 8   Review Date      7204 non-null   object\n",
      " 9   App ID           7204 non-null   object\n",
      "dtypes: int64(3), object(7)\n",
      "memory usage: 562.9+ KB\n"
     ]
    }
   ],
   "source": [
    "df.info()"
   ]
  },
  {
   "cell_type": "code",
   "execution_count": 6,
   "id": "4aef8d69",
   "metadata": {},
   "outputs": [
    {
     "data": {
      "text/plain": [
       "ID                 0\n",
       "Review URL         0\n",
       "Text               0\n",
       "Star               0\n",
       "Thumbs Up          0\n",
       "User Name          0\n",
       "Developer Reply    0\n",
       "Version            0\n",
       "Review Date        0\n",
       "App ID             0\n",
       "dtype: int64"
      ]
     },
     "execution_count": 6,
     "metadata": {},
     "output_type": "execute_result"
    }
   ],
   "source": [
    "df = df.dropna()\n",
    "df.isnull().sum()"
   ]
  },
  {
   "cell_type": "code",
   "execution_count": 7,
   "id": "5355c5e1",
   "metadata": {},
   "outputs": [
    {
     "data": {
      "text/html": [
       "<div>\n",
       "<style scoped>\n",
       "    .dataframe tbody tr th:only-of-type {\n",
       "        vertical-align: middle;\n",
       "    }\n",
       "\n",
       "    .dataframe tbody tr th {\n",
       "        vertical-align: top;\n",
       "    }\n",
       "\n",
       "    .dataframe thead th {\n",
       "        text-align: right;\n",
       "    }\n",
       "</style>\n",
       "<table border=\"1\" class=\"dataframe\">\n",
       "  <thead>\n",
       "    <tr style=\"text-align: right;\">\n",
       "      <th></th>\n",
       "      <th>ID</th>\n",
       "      <th>Star</th>\n",
       "      <th>Thumbs Up</th>\n",
       "    </tr>\n",
       "  </thead>\n",
       "  <tbody>\n",
       "    <tr>\n",
       "      <th>count</th>\n",
       "      <td>95.000000</td>\n",
       "      <td>95.000000</td>\n",
       "      <td>95.000000</td>\n",
       "    </tr>\n",
       "    <tr>\n",
       "      <th>mean</th>\n",
       "      <td>339585.547368</td>\n",
       "      <td>1.578947</td>\n",
       "      <td>2.221053</td>\n",
       "    </tr>\n",
       "    <tr>\n",
       "      <th>std</th>\n",
       "      <td>211948.052992</td>\n",
       "      <td>1.225430</td>\n",
       "      <td>15.329140</td>\n",
       "    </tr>\n",
       "    <tr>\n",
       "      <th>min</th>\n",
       "      <td>4087.000000</td>\n",
       "      <td>1.000000</td>\n",
       "      <td>0.000000</td>\n",
       "    </tr>\n",
       "    <tr>\n",
       "      <th>25%</th>\n",
       "      <td>125739.500000</td>\n",
       "      <td>1.000000</td>\n",
       "      <td>0.000000</td>\n",
       "    </tr>\n",
       "    <tr>\n",
       "      <th>50%</th>\n",
       "      <td>429731.000000</td>\n",
       "      <td>1.000000</td>\n",
       "      <td>0.000000</td>\n",
       "    </tr>\n",
       "    <tr>\n",
       "      <th>75%</th>\n",
       "      <td>462220.000000</td>\n",
       "      <td>1.000000</td>\n",
       "      <td>0.000000</td>\n",
       "    </tr>\n",
       "    <tr>\n",
       "      <th>max</th>\n",
       "      <td>642327.000000</td>\n",
       "      <td>5.000000</td>\n",
       "      <td>141.000000</td>\n",
       "    </tr>\n",
       "  </tbody>\n",
       "</table>\n",
       "</div>"
      ],
      "text/plain": [
       "                  ID       Star   Thumbs Up\n",
       "count      95.000000  95.000000   95.000000\n",
       "mean   339585.547368   1.578947    2.221053\n",
       "std    211948.052992   1.225430   15.329140\n",
       "min      4087.000000   1.000000    0.000000\n",
       "25%    125739.500000   1.000000    0.000000\n",
       "50%    429731.000000   1.000000    0.000000\n",
       "75%    462220.000000   1.000000    0.000000\n",
       "max    642327.000000   5.000000  141.000000"
      ]
     },
     "execution_count": 7,
     "metadata": {},
     "output_type": "execute_result"
    }
   ],
   "source": [
    "df.describe()"
   ]
  },
  {
   "cell_type": "code",
   "execution_count": 8,
   "id": "5419cc18",
   "metadata": {},
   "outputs": [
    {
     "data": {
      "text/plain": [
       "Index(['ID', 'Review URL', 'Text', 'Star', 'Thumbs Up', 'User Name',\n",
       "       'Developer Reply', 'Version', 'Review Date', 'App ID'],\n",
       "      dtype='object')"
      ]
     },
     "execution_count": 8,
     "metadata": {},
     "output_type": "execute_result"
    }
   ],
   "source": [
    "df.columns"
   ]
  },
  {
   "cell_type": "code",
   "execution_count": 9,
   "id": "6f455b5a",
   "metadata": {},
   "outputs": [],
   "source": [
    "df = df.rename(columns={'Review URL': 'Review_URL', 'Thumbs Up': 'Thumbs_Up','User Name': 'User_Name','Developer Reply': 'Developer_Reply','Review Date': 'Review_Date','Thumbs Up': 'Thumbs_Up','App ID': 'App_ID'})"
   ]
  },
  {
   "cell_type": "code",
   "execution_count": 10,
   "id": "b4e25bff",
   "metadata": {},
   "outputs": [
    {
     "data": {
      "text/html": [
       "<div>\n",
       "<style scoped>\n",
       "    .dataframe tbody tr th:only-of-type {\n",
       "        vertical-align: middle;\n",
       "    }\n",
       "\n",
       "    .dataframe tbody tr th {\n",
       "        vertical-align: top;\n",
       "    }\n",
       "\n",
       "    .dataframe thead th {\n",
       "        text-align: right;\n",
       "    }\n",
       "</style>\n",
       "<table border=\"1\" class=\"dataframe\">\n",
       "  <thead>\n",
       "    <tr style=\"text-align: right;\">\n",
       "      <th></th>\n",
       "      <th>ID</th>\n",
       "      <th>Review_URL</th>\n",
       "      <th>Text</th>\n",
       "      <th>Star</th>\n",
       "      <th>Thumbs_Up</th>\n",
       "      <th>User_Name</th>\n",
       "      <th>Developer_Reply</th>\n",
       "      <th>Version</th>\n",
       "      <th>Review_Date</th>\n",
       "      <th>App_ID</th>\n",
       "    </tr>\n",
       "  </thead>\n",
       "  <tbody>\n",
       "    <tr>\n",
       "      <th>105</th>\n",
       "      <td>4087</td>\n",
       "      <td>https://play.google.com/store/apps/details?id=...</td>\n",
       "      <td>App not update plz halp</td>\n",
       "      <td>1</td>\n",
       "      <td>0</td>\n",
       "      <td>Subham Dey</td>\n",
       "      <td>Hey Subham, thanks for reaching out. Would you...</td>\n",
       "      <td>86.0.4240.110</td>\n",
       "      <td>2020-12-21</td>\n",
       "      <td>com.android.chrome</td>\n",
       "    </tr>\n",
       "    <tr>\n",
       "      <th>411</th>\n",
       "      <td>8518</td>\n",
       "      <td>https://play.google.com/store/apps/details?id=...</td>\n",
       "      <td>Google Chrome didn't update</td>\n",
       "      <td>3</td>\n",
       "      <td>0</td>\n",
       "      <td>renu s</td>\n",
       "      <td>Hey Renu, thanks for reaching out! We are awar...</td>\n",
       "      <td>81.0.4044.138</td>\n",
       "      <td>2020-12-24</td>\n",
       "      <td>com.android.chrome</td>\n",
       "    </tr>\n",
       "    <tr>\n",
       "      <th>437</th>\n",
       "      <td>8544</td>\n",
       "      <td>https://play.google.com/store/apps/details?id=...</td>\n",
       "      <td>Apps not updated</td>\n",
       "      <td>1</td>\n",
       "      <td>0</td>\n",
       "      <td>Deepak Sonker</td>\n",
       "      <td>Hey Deepak, thanks for reaching out! We are aw...</td>\n",
       "      <td>83.0.4103.106</td>\n",
       "      <td>2020-12-24</td>\n",
       "      <td>com.android.chrome</td>\n",
       "    </tr>\n",
       "    <tr>\n",
       "      <th>442</th>\n",
       "      <td>8549</td>\n",
       "      <td>https://play.google.com/store/apps/details?id=...</td>\n",
       "      <td>I am not able to update</td>\n",
       "      <td>1</td>\n",
       "      <td>0</td>\n",
       "      <td>AKP Present</td>\n",
       "      <td>Hey there, thanks for reaching out! We are awa...</td>\n",
       "      <td>83.0.4103.101</td>\n",
       "      <td>2020-12-24</td>\n",
       "      <td>com.android.chrome</td>\n",
       "    </tr>\n",
       "    <tr>\n",
       "      <th>464</th>\n",
       "      <td>8572</td>\n",
       "      <td>https://play.google.com/store/apps/details?id=...</td>\n",
       "      <td>Being not update</td>\n",
       "      <td>1</td>\n",
       "      <td>0</td>\n",
       "      <td>Puran Baraily</td>\n",
       "      <td>Hey Puran, thanks for reaching out! We are awa...</td>\n",
       "      <td>85.0.4183.127</td>\n",
       "      <td>2020-12-24</td>\n",
       "      <td>com.android.chrome</td>\n",
       "    </tr>\n",
       "  </tbody>\n",
       "</table>\n",
       "</div>"
      ],
      "text/plain": [
       "       ID                                         Review_URL  \\\n",
       "105  4087  https://play.google.com/store/apps/details?id=...   \n",
       "411  8518  https://play.google.com/store/apps/details?id=...   \n",
       "437  8544  https://play.google.com/store/apps/details?id=...   \n",
       "442  8549  https://play.google.com/store/apps/details?id=...   \n",
       "464  8572  https://play.google.com/store/apps/details?id=...   \n",
       "\n",
       "                            Text  Star  Thumbs_Up      User_Name  \\\n",
       "105      App not update plz halp     1          0     Subham Dey   \n",
       "411  Google Chrome didn't update     3          0         renu s   \n",
       "437             Apps not updated     1          0  Deepak Sonker   \n",
       "442      I am not able to update     1          0    AKP Present   \n",
       "464             Being not update     1          0  Puran Baraily   \n",
       "\n",
       "                                       Developer_Reply        Version  \\\n",
       "105  Hey Subham, thanks for reaching out. Would you...  86.0.4240.110   \n",
       "411  Hey Renu, thanks for reaching out! We are awar...  81.0.4044.138   \n",
       "437  Hey Deepak, thanks for reaching out! We are aw...  83.0.4103.106   \n",
       "442  Hey there, thanks for reaching out! We are awa...  83.0.4103.101   \n",
       "464  Hey Puran, thanks for reaching out! We are awa...  85.0.4183.127   \n",
       "\n",
       "    Review_Date              App_ID  \n",
       "105  2020-12-21  com.android.chrome  \n",
       "411  2020-12-24  com.android.chrome  \n",
       "437  2020-12-24  com.android.chrome  \n",
       "442  2020-12-24  com.android.chrome  \n",
       "464  2020-12-24  com.android.chrome  "
      ]
     },
     "execution_count": 10,
     "metadata": {},
     "output_type": "execute_result"
    }
   ],
   "source": [
    "df.head()"
   ]
  },
  {
   "cell_type": "code",
   "execution_count": 68,
   "id": "a39c013d",
   "metadata": {},
   "outputs": [],
   "source": [
    "x = df.loc[:,['ID','Thumbs_Up']]"
   ]
  },
  {
   "cell_type": "code",
   "execution_count": 69,
   "id": "5a81bee4",
   "metadata": {},
   "outputs": [
    {
     "data": {
      "text/html": [
       "<div>\n",
       "<style scoped>\n",
       "    .dataframe tbody tr th:only-of-type {\n",
       "        vertical-align: middle;\n",
       "    }\n",
       "\n",
       "    .dataframe tbody tr th {\n",
       "        vertical-align: top;\n",
       "    }\n",
       "\n",
       "    .dataframe thead th {\n",
       "        text-align: right;\n",
       "    }\n",
       "</style>\n",
       "<table border=\"1\" class=\"dataframe\">\n",
       "  <thead>\n",
       "    <tr style=\"text-align: right;\">\n",
       "      <th></th>\n",
       "      <th>ID</th>\n",
       "      <th>Thumbs_Up</th>\n",
       "    </tr>\n",
       "  </thead>\n",
       "  <tbody>\n",
       "    <tr>\n",
       "      <th>105</th>\n",
       "      <td>4087</td>\n",
       "      <td>0</td>\n",
       "    </tr>\n",
       "    <tr>\n",
       "      <th>411</th>\n",
       "      <td>8518</td>\n",
       "      <td>0</td>\n",
       "    </tr>\n",
       "    <tr>\n",
       "      <th>437</th>\n",
       "      <td>8544</td>\n",
       "      <td>0</td>\n",
       "    </tr>\n",
       "    <tr>\n",
       "      <th>442</th>\n",
       "      <td>8549</td>\n",
       "      <td>0</td>\n",
       "    </tr>\n",
       "    <tr>\n",
       "      <th>464</th>\n",
       "      <td>8572</td>\n",
       "      <td>0</td>\n",
       "    </tr>\n",
       "  </tbody>\n",
       "</table>\n",
       "</div>"
      ],
      "text/plain": [
       "       ID  Thumbs_Up\n",
       "105  4087          0\n",
       "411  8518          0\n",
       "437  8544          0\n",
       "442  8549          0\n",
       "464  8572          0"
      ]
     },
     "execution_count": 69,
     "metadata": {},
     "output_type": "execute_result"
    }
   ],
   "source": [
    "x.head()"
   ]
  },
  {
   "cell_type": "code",
   "execution_count": 74,
   "id": "43725174",
   "metadata": {},
   "outputs": [
    {
     "data": {
      "text/html": [
       "<div>\n",
       "<style scoped>\n",
       "    .dataframe tbody tr th:only-of-type {\n",
       "        vertical-align: middle;\n",
       "    }\n",
       "\n",
       "    .dataframe tbody tr th {\n",
       "        vertical-align: top;\n",
       "    }\n",
       "\n",
       "    .dataframe thead th {\n",
       "        text-align: right;\n",
       "    }\n",
       "</style>\n",
       "<table border=\"1\" class=\"dataframe\">\n",
       "  <thead>\n",
       "    <tr style=\"text-align: right;\">\n",
       "      <th></th>\n",
       "      <th>Star</th>\n",
       "    </tr>\n",
       "  </thead>\n",
       "  <tbody>\n",
       "    <tr>\n",
       "      <th>105</th>\n",
       "      <td>1</td>\n",
       "    </tr>\n",
       "    <tr>\n",
       "      <th>411</th>\n",
       "      <td>3</td>\n",
       "    </tr>\n",
       "    <tr>\n",
       "      <th>437</th>\n",
       "      <td>1</td>\n",
       "    </tr>\n",
       "    <tr>\n",
       "      <th>442</th>\n",
       "      <td>1</td>\n",
       "    </tr>\n",
       "    <tr>\n",
       "      <th>464</th>\n",
       "      <td>1</td>\n",
       "    </tr>\n",
       "  </tbody>\n",
       "</table>\n",
       "</div>"
      ],
      "text/plain": [
       "     Star\n",
       "105     1\n",
       "411     3\n",
       "437     1\n",
       "442     1\n",
       "464     1"
      ]
     },
     "execution_count": 74,
     "metadata": {},
     "output_type": "execute_result"
    }
   ],
   "source": [
    "y=df.loc[:,['Star']]\n",
    "y.head()"
   ]
  },
  {
   "cell_type": "code",
   "execution_count": 75,
   "id": "5b0d5851",
   "metadata": {},
   "outputs": [],
   "source": [
    "from sklearn.model_selection import train_test_split\n",
    "X_train,X_test,y_train,y_test = train_test_split(x,y,test_size = 0.2,random_state = 0)"
   ]
  },
  {
   "cell_type": "code",
   "execution_count": 76,
   "id": "8ffd9eee",
   "metadata": {},
   "outputs": [],
   "source": [
    "from sklearn.linear_model import LinearRegression\n",
    "model = LinearRegression()"
   ]
  },
  {
   "cell_type": "code",
   "execution_count": 77,
   "id": "1b9a20b4",
   "metadata": {},
   "outputs": [
    {
     "data": {
      "text/plain": [
       "LinearRegression()"
      ]
     },
     "execution_count": 77,
     "metadata": {},
     "output_type": "execute_result"
    }
   ],
   "source": [
    "model.fit(X_train,y_train)"
   ]
  },
  {
   "cell_type": "code",
   "execution_count": 78,
   "id": "d253a18b",
   "metadata": {},
   "outputs": [],
   "source": [
    "y_pred = model.predict(X_test)"
   ]
  },
  {
   "cell_type": "code",
   "execution_count": 79,
   "id": "860477e8",
   "metadata": {},
   "outputs": [
    {
     "data": {
      "text/plain": [
       "-0.04749044156757032"
      ]
     },
     "execution_count": 79,
     "metadata": {},
     "output_type": "execute_result"
    }
   ],
   "source": [
    "from sklearn.metrics import r2_score\n",
    "r2_score(y_test,y_pred)"
   ]
  },
  {
   "cell_type": "code",
   "execution_count": 116,
   "id": "2f4035e7",
   "metadata": {},
   "outputs": [],
   "source": [
    "import pickle"
   ]
  },
  {
   "cell_type": "code",
   "execution_count": 117,
   "id": "61822278",
   "metadata": {},
   "outputs": [],
   "source": [
    "file = open('model.pkl', 'wb')"
   ]
  },
  {
   "cell_type": "code",
   "execution_count": 118,
   "id": "75062764",
   "metadata": {},
   "outputs": [],
   "source": [
    "pickle.dump(model, file)"
   ]
  },
  {
   "cell_type": "code",
   "execution_count": null,
   "id": "71a4aa2d",
   "metadata": {},
   "outputs": [],
   "source": []
  },
  {
   "cell_type": "code",
   "execution_count": null,
   "id": "4440bfd4",
   "metadata": {},
   "outputs": [],
   "source": []
  },
  {
   "cell_type": "code",
   "execution_count": null,
   "id": "544125f8",
   "metadata": {},
   "outputs": [],
   "source": []
  },
  {
   "cell_type": "code",
   "execution_count": null,
   "id": "bb1cd5da",
   "metadata": {},
   "outputs": [],
   "source": []
  }
 ],
 "metadata": {
  "kernelspec": {
   "display_name": "Python 3 (ipykernel)",
   "language": "python",
   "name": "python3"
  },
  "language_info": {
   "codemirror_mode": {
    "name": "ipython",
    "version": 3
   },
   "file_extension": ".py",
   "mimetype": "text/x-python",
   "name": "python",
   "nbconvert_exporter": "python",
   "pygments_lexer": "ipython3",
   "version": "3.9.7"
  }
 },
 "nbformat": 4,
 "nbformat_minor": 5
}
